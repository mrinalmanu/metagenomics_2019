{
 "cells": [
  {
   "cell_type": "code",
   "execution_count": 1,
   "metadata": {},
   "outputs": [],
   "source": [
    "import numpy as np\n",
    "import pandas as pd\n",
    "import rpy2\n",
    "from fn import F\n",
    "from biom import load_table\n",
    "import skbio\n",
    "from scipy.spatial.distance import braycurtis\n",
    "from skbio.stats import composition\n",
    "from skbio import diversity\n",
    "\n",
    "%load_ext rpy2.ipython"
   ]
  },
  {
   "cell_type": "markdown",
   "metadata": {},
   "source": [
    "A set $X$ endowed with a binary operator $\\delta(a, b): {X}^{2} \\rightarrow  \\mathbb{R}$ is called a metric space, if\n",
    "\n",
    "1. $\\delta$ is symmetric, i.e. $\\delta(a, b) = \\delta(b, a)$ for any $a, b \\in X$ \n",
    "2. $\\delta$ satisfies the triangle inequality, i.e. $\\delta(a, b) \\le \\delta(a, c) + \\delta(b, c)$ for any $a, b, c \\in X$\n",
    "\\end{enumerate}\n",
    "3. all elements in $X$ are separable under $\\delta$, i.e. $\\delta(a, b) = 0 \\iff a = b$ for any $a, b \\in X$\n",
    "\n",
    "A function $\\delta \\colon X \\times X \\to \\mathbb{R}$ is a pseudometric (aka semimetric) if it satisfies conditions all but the last conditions. So the difference between a pseudometric and a metric is just that in a pseudometric distinct points may have distance $0$."
   ]
  },
  {
   "cell_type": "markdown",
   "metadata": {},
   "source": [
    "Given a binary tree with weighted edges and two probability distributions over the edges $A$ and $B$:\n",
    "\n",
    "$$ \n",
    "{U}_{w}(A, B) = \\frac{ \n",
    "    \\sum^{n}_{i}{{b}_{i} \\left | {}^{A}{p}_{i} - {}^{B}{p}_{i} \\right |} \n",
    "}{ \n",
    "    \\sum^{n}_{i}{{b}_{i}}\n",
    "},\n",
    "$$\n",
    "\n",
    "where ${b}_{i}$ – is the weight (length) of the $i$-th edge, ${}^{A}{p}_{i}$ and ${}^{B}{p}_{i}$ are probabilities associated with the edge in $A$ and $B$ respectively. This function is widely used in computational ecology these days as a notion of phylogenetic distance between two samples.\n",
    "Recently, a modification has been proposed, dubbed the information UniFrac\n",
    "\n",
    "$$ \n",
    "{U}_{inf}(A, B) = \\frac{ \n",
    "    \\sum^{n}_{i}{{b}_{i} \\left | {}^{A}{p}_{i}\\log_{2}{{}^{A}{p}_{i}} - {}^{B}{p}_{i}\\log_{2}{{}^{B}{p}_{i}} \\right |} \n",
    "}{ \n",
    "    \\sum^{n}_{i}{{b}_{i}}\n",
    "},\n",
    "$$\n",
    "\n",
    "which obviously replaces raw probabilities with self-information in the edge-weight normalisation factor. "
   ]
  },
  {
   "cell_type": "markdown",
   "metadata": {},
   "source": [
    "Then, if we have any function $f \\colon X \\to \\mathbb{R}$, we obtain a pseudometric $\\delta_f$ by setting\n",
    "\n",
    "$$\\delta_f(x,y) = \\lvert f(x) - f(y)\\rvert\\,.$$\n",
    "\n",
    "It's not important that the codomain of the function is $\\mathbb{R}$, if we have $g \\colon X \\to Y$ with $(Y,d)$ a pseudometric space, then\n",
    "\n",
    "$$\\delta_g(x,y) = d(g(x), g(y))$$\n",
    "\n",
    "is a pseudometric on $X$. Condition 1 is satisfied since the range of a pseudometric consists of nonnegative real numbers, so $d(g(x), g(y)) \\geqslant 0$. The symmetry - condition 3 - transfers from $d$ to $\\delta_g$, and the triangle inequality also follows from the triangle inequality for $d$:\n",
    "\n",
    "$$\\delta_g(x,z) = d(g(x), g(z)) \\leqslant d(g(x), g(y)) + d(g(y), g(z)) = \\delta_g(x,y) + \\delta_g(y,z)\\,.$$\n",
    "\n",
    "It is straightforward to verify that if $\\delta$ is a pseudometric and $c \\geqslant 0$ then $c\\cdot \\delta$ is a pseudometric too, and that the sum of pseudometrics (if we have a sum of infinitely many pseudometrics, we need to impose convergence constraints) is again a pseudometric, using the nonnegativity, symmetry, and triangle inequality for each term.\n",
    "\n",
    "The UniFrac example is\n",
    "\n",
    "$$U_{\\ast}(A,B) = \\sum_{i = 1}^n c_i \\delta_{f_i}(A,B)$$\n",
    "\n",
    "where\n",
    "\n",
    "$$c_i = \\frac{b_i}{\\sum_{k = 1}^n b_k}$$\n",
    "\n",
    "and $f_i(C) = {}^Cp_i$ in the first case, $f_i(C) = {}^Cp_i\\cdot \\log {}^Cp_i$ - with the convention $0 \\cdot \\log 0 = 0$ - in the second. Thus the triangle inequality holds for all such constructions.\n",
    "\n",
    "In this construction, we obtain a metric if and only if for all $x \\neq y$ there is an $i$ such that $d(g_i(x), g_i(y)) > 0$. Since we're using the metric $d(a,b) = \\lvert a - b\\rvert$ on the codomain, that is the case if and only if for all $x \\neq y$ there is an $i$ with $g_i(x)  \\neq g_i(y)$.\n"
   ]
  },
  {
   "cell_type": "code",
   "execution_count": 2,
   "metadata": {
    "collapsed": true,
    "jupyter": {
     "outputs_hidden": true
    }
   },
   "outputs": [
    {
     "name": "stderr",
     "output_type": "stream",
     "text": [
      "R[write to console]: Loading required package: carData\n",
      "\n",
      "R[write to console]: \n",
      "Attaching package: ‘dplyr’\n",
      "\n",
      "\n",
      "R[write to console]: The following object is masked from ‘package:car’:\n",
      "\n",
      "    recode\n",
      "\n",
      "\n",
      "R[write to console]: The following objects are masked from ‘package:stats’:\n",
      "\n",
      "    filter, lag\n",
      "\n",
      "\n",
      "R[write to console]: The following objects are masked from ‘package:base’:\n",
      "\n",
      "    intersect, setdiff, setequal, union\n",
      "\n",
      "\n",
      "R[write to console]: Loading required package: ggplot2\n",
      "\n",
      "R[write to console]: ggtree v1.14.6  For help: https://guangchuangyu.github.io/software/ggtree\n",
      "\n",
      "If you use ggtree in published research, please cite the most appropriate paper(s):\n",
      "\n",
      "- Guangchuang Yu, David Smith, Huachen Zhu, Yi Guan, Tommy Tsan-Yuk Lam. ggtree: an R package for visualization and annotation of phylogenetic trees with their covariates and other associated data. Methods in Ecology and Evolution 2017, 8(1):28-36, doi:10.1111/2041-210X.12628\n",
      "\n",
      "- Guangchuang Yu, Tommy Tsan-Yuk Lam, Huachen Zhu, Yi Guan. Two methods for mapping and visualizing associated data on phylogeny using ggtree. Molecular Biology and Evolution 2018, accepted. doi: 10.1093/molbev/msy194\n",
      "\n",
      "R[write to console]: \n",
      "Attaching package: ‘ggtree’\n",
      "\n",
      "\n",
      "R[write to console]: The following object is masked from ‘package:ape’:\n",
      "\n",
      "    rotate\n",
      "\n",
      "\n",
      "R[write to console]: --\n",
      "Remember to cite, run citation(package = 'ggtern') for further info.\n",
      "--\n",
      "\n",
      "R[write to console]: \n",
      "Attaching package: ‘ggtern’\n",
      "\n",
      "\n",
      "R[write to console]: The following objects are masked from ‘package:ggtree’:\n",
      "\n",
      "    aes, ggplot, ggsave, theme\n",
      "\n",
      "\n",
      "R[write to console]: The following objects are masked from ‘package:ggplot2’:\n",
      "\n",
      "    %+%, aes, annotate, calc_element, ggplot, ggplotGrob, ggplot_build,\n",
      "    ggplot_gtable, ggsave, layer_data, theme, theme_bw, theme_classic,\n",
      "    theme_dark, theme_gray, theme_light, theme_linedraw, theme_minimal,\n",
      "    theme_void\n",
      "\n",
      "\n",
      "R[write to console]: Loading required package: Matrix\n",
      "\n",
      "R[write to console]: \n",
      "Attaching package: ‘Matrix’\n",
      "\n",
      "\n",
      "R[write to console]: The following object is masked from ‘package:ggtree’:\n",
      "\n",
      "    expand\n",
      "\n",
      "\n",
      "R[write to console]: Loading required package: foreach\n",
      "\n",
      "R[write to console]: Loaded glmnet 2.0-18\n",
      "\n",
      "\n",
      "R[write to console]: Loading required package: maps\n",
      "\n",
      "R[write to console]: \n",
      "Attaching package: ‘phytools’\n",
      "\n",
      "\n",
      "R[write to console]: The following objects are masked from ‘package:ggtree’:\n",
      "\n",
      "    read.newick, reroot\n",
      "\n",
      "\n",
      "R[write to console]: \n",
      "Attaching package: ‘tidyr’\n",
      "\n",
      "\n",
      "R[write to console]: The following object is masked from ‘package:reshape2’:\n",
      "\n",
      "    smiths\n",
      "\n",
      "\n",
      "R[write to console]: The following objects are masked from ‘package:Matrix’:\n",
      "\n",
      "    expand, pack, unpack\n",
      "\n",
      "\n",
      "R[write to console]: The following object is masked from ‘package:ggtree’:\n",
      "\n",
      "    expand\n",
      "\n",
      "\n",
      "R[write to console]: Loading required package: permute\n",
      "\n",
      "R[write to console]: Loading required package: lattice\n",
      "\n",
      "R[write to console]: This is vegan 2.5-6\n",
      "\n",
      "R[write to console]: Loading required package: lme4\n",
      "\n",
      "R[write to console]: ------------------------------------------------------------------------------\n",
      "\n",
      "R[write to console]: You have loaded plyr after dplyr - this is likely to cause problems.\n",
      "If you need functions from both plyr and dplyr, please load plyr first, then dplyr:\n",
      "library(plyr); library(dplyr)\n",
      "\n",
      "R[write to console]: ------------------------------------------------------------------------------\n",
      "\n",
      "R[write to console]: \n",
      "Attaching package: ‘plyr’\n",
      "\n",
      "\n",
      "R[write to console]: The following object is masked from ‘package:maps’:\n",
      "\n",
      "    ozone\n",
      "\n",
      "\n",
      "R[write to console]: The following object is masked from ‘package:ggtree’:\n",
      "\n",
      "    .\n",
      "\n",
      "\n",
      "R[write to console]: The following objects are masked from ‘package:dplyr’:\n",
      "\n",
      "    arrange, count, desc, failwith, id, mutate, rename, summarise,\n",
      "    summarize\n",
      "\n",
      "\n",
      "R[write to console]: \n",
      "Attaching package: ‘docstring’\n",
      "\n",
      "\n",
      "R[write to console]: The following object is masked from ‘package:utils’:\n",
      "\n",
      "    ?\n",
      "\n",
      "\n"
     ]
    }
   ],
   "source": [
    "%%R\n",
    "\n",
    "library(ape)\n",
    "library(broom.mixed)\n",
    "library(car)\n",
    "library(dplyr)\n",
    "library(ggfortify)\n",
    "library(ggplot2)\n",
    "library(ggrepel)\n",
    "library(ggtree)\n",
    "library(ggtern)\n",
    "library(glmnet)\n",
    "library(latex2exp)\n",
    "library(philr)\n",
    "library(phyloseq)\n",
    "library(phytools)\n",
    "library(reshape2)\n",
    "library(tidyr)\n",
    "library(vegan)\n",
    "\n",
    "source('stat_util.R')\n"
   ]
  },
  {
   "cell_type": "code",
   "execution_count": null,
   "metadata": {},
   "outputs": [],
   "source": []
  },
  {
   "cell_type": "code",
   "execution_count": null,
   "metadata": {},
   "outputs": [],
   "source": []
  },
  {
   "cell_type": "code",
   "execution_count": 3,
   "metadata": {},
   "outputs": [],
   "source": [
    "table = load_table('table_filt.biom')\n",
    "counts = table.matrix_data.toarray().astype(int)\n",
    "taxonomy = table.metadata_to_dataframe('observation')\n",
    "metadata = table.metadata_to_dataframe('sample')"
   ]
  },
  {
   "cell_type": "code",
   "execution_count": 4,
   "metadata": {},
   "outputs": [
    {
     "data": {
      "text/plain": [
       "654 x 56 <class 'biom.table.Table'> with 19348 nonzero entries (52% dense)"
      ]
     },
     "execution_count": 4,
     "metadata": {},
     "output_type": "execute_result"
    }
   ],
   "source": [
    "table"
   ]
  },
  {
   "cell_type": "code",
   "execution_count": 40,
   "metadata": {},
   "outputs": [
    {
     "data": {
      "text/plain": [
       "(22, 56)"
      ]
     },
     "execution_count": 40,
     "metadata": {},
     "output_type": "execute_result"
    }
   ],
   "source": [
    "mask = counts > 100\n",
    "selected = (mask.sum(1) > 56 / 3)\n",
    "counts_obs = counts[selected,:] + 1\n",
    "taxonomy_obs = taxonomy[selected]\n",
    "tips_obs = taxonomy_obs.index\n",
    "\n",
    "with open('tree.nwk') as buffer:\n",
    "    tree_sheared = skbio.read(buffer, format=\"newick\", into=skbio.tree.TreeNode).shear(tips_obs)\n",
    "    # label internal nodes\n",
    "    tree_sheared.assign_ids()\n",
    "    for node in tree_sheared.traverse():\n",
    "        if not node.is_tip():\n",
    "            node.name = f'n{node.id}' \n",
    "counts_obs.shape"
   ]
  },
  {
   "cell_type": "code",
   "execution_count": null,
   "metadata": {},
   "outputs": [],
   "source": []
  },
  {
   "cell_type": "code",
   "execution_count": 41,
   "metadata": {},
   "outputs": [],
   "source": [
    "wunifrac_obs = diversity.beta_diversity(\n",
    "    'weighted_unifrac', \n",
    "    counts_obs.T, \n",
    "    otu_ids=tips_obs, \n",
    "    tree=tree_sheared\n",
    ").to_data_frame()\n",
    "\n",
    "bray_obs = diversity.beta_diversity(\n",
    "    braycurtis, \n",
    "    counts_obs.T\n",
    ").to_data_frame()"
   ]
  },
  {
   "cell_type": "code",
   "execution_count": null,
   "metadata": {},
   "outputs": [],
   "source": []
  },
  {
   "cell_type": "code",
   "execution_count": 42,
   "metadata": {},
   "outputs": [],
   "source": [
    "# def aitchison_distance(a, b):\n",
    "#     \"\"\"\n",
    "#     Compute the Aitchison distance beetween two vectors\n",
    "#     \"\"\"\n",
    "#     return np.linalg.norm(\n",
    "#        composition.clr(a) - composition.clr(b)\n",
    "#     )\n",
    "\n",
    "# aitchison_obs = diversity.beta_diversity(\n",
    "#     aitchison_distance,\n",
    "#     counts_obs,\n",
    "#     validate=False\n",
    "# ).to_data_frame()"
   ]
  },
  {
   "cell_type": "code",
   "execution_count": null,
   "metadata": {},
   "outputs": [],
   "source": []
  },
  {
   "cell_type": "code",
   "execution_count": 43,
   "metadata": {},
   "outputs": [
    {
     "name": "stdout",
     "output_type": "stream",
     "text": [
      "\n",
      "Call:\n",
      "adonis(formula = as.dist(wunifrac_obs) ~ soil + plant, data = metadata,      permutations = 9999) \n",
      "\n",
      "Permutation: free\n",
      "Number of permutations: 9999\n",
      "\n",
      "Terms added sequentially (first to last)\n",
      "\n",
      "          Df SumsOfSqs MeanSqs F.Model      R2 Pr(>F)    \n",
      "soil       1    2.7869 2.78688 126.348 0.56576  1e-04 ***\n",
      "plant      2    0.9921 0.49603  22.488 0.20140  1e-04 ***\n",
      "Residuals 52    1.1470 0.02206         0.23284           \n",
      "Total     55    4.9259                 1.00000           \n",
      "---\n",
      "Signif. codes:  0 ‘***’ 0.001 ‘**’ 0.01 ‘*’ 0.05 ‘.’ 0.1 ‘ ’ 1\n",
      "\n",
      "Call:\n",
      "adonis(formula = as.dist(bray_obs) ~ soil + plant, data = metadata,      permutations = 9999) \n",
      "\n",
      "Permutation: free\n",
      "Number of permutations: 9999\n",
      "\n",
      "Terms added sequentially (first to last)\n",
      "\n",
      "          Df SumsOfSqs MeanSqs F.Model      R2 Pr(>F)    \n",
      "soil       1    5.4606  5.4606  94.684 0.53892  1e-04 ***\n",
      "plant      2    1.6730  0.8365  14.504 0.16511  1e-04 ***\n",
      "Residuals 52    2.9990  0.0577         0.29597           \n",
      "Total     55   10.1326                 1.00000           \n",
      "---\n",
      "Signif. codes:  0 ‘***’ 0.001 ‘**’ 0.01 ‘*’ 0.05 ‘.’ 0.1 ‘ ’ 1\n"
     ]
    }
   ],
   "source": [
    "%%R -i wunifrac_obs,bray_obs,metadata # ,aitchison_obs\n",
    "\n",
    "print(adonis(as.dist(wunifrac_obs) ~ soil + plant, data=metadata, permutations=9999))\n",
    "print(adonis(as.dist(bray_obs) ~ soil + plant, data=metadata, permutations=9999))\n",
    "# print(adonis(as.dist(aitchison_obs) ~ soil, data=metadata, permutations=9999))"
   ]
  },
  {
   "cell_type": "code",
   "execution_count": null,
   "metadata": {},
   "outputs": [],
   "source": [
    "%%R \n",
    "\n",
    "x  <- data.frame(\n",
    "  x1 = c( 0, 0, 1, 0.1, 0.6, 0.2 ),\n",
    "  x2 = c( 0, 1, 0, 0.3, 0.2, 0.8 ),\n",
    "  x3 = c( 1, 0, 0, 0.6, 0.2, 0.0 )\n",
    ")\n",
    "\n",
    "ggtern(data=x, aes(x2,x1,x3)) + \n",
    "   geom_mask() +\n",
    "   geom_point(fill=\"red\",shape=21,size=4) + \n",
    "   theme_bw() +\n",
    "   theme_showarrows() +\n",
    "   theme_clockwise()"
   ]
  },
  {
   "cell_type": "code",
   "execution_count": null,
   "metadata": {},
   "outputs": [],
   "source": [
    "np.linalg.svd(np.cov(np.random.multinomial(10, composition.closure([10, 10, 10]), size=(10,)).T))"
   ]
  },
  {
   "cell_type": "code",
   "execution_count": 57,
   "metadata": {},
   "outputs": [
    {
     "name": "stderr",
     "output_type": "stream",
     "text": [
      "R[write to console]: Building Sequential Binary Partition from Tree...\n",
      "\n",
      "R[write to console]: Building Contrast Matrix...\n",
      "\n",
      "R[write to console]: Transforming the Data...\n",
      "\n",
      "R[write to console]: Calculating ILR Weights...\n",
      "\n"
     ]
    }
   ],
   "source": [
    "%%R\n",
    "\n",
    "data <- import_biom(BIOMfilename='table.biom', \n",
    "                    treefilename='tree.nwk',\n",
    "                    parseFunction=parse_taxonomy_greengenes) %>%\n",
    "        transform_sample_counts(function(x) x + 1)\n",
    "\n",
    "# binarise the tree and rename internal nodes\n",
    "phy_tree(data) <- makeNodeLabel(\n",
    "    multi2di(phy_tree(data)), method='number', prefix='b'\n",
    ")\n",
    "\n",
    "# what is the root node\n",
    "name.balance(phy_tree(data), tax_table(data), 'b1')\n",
    "\n",
    "# transform all samples (including bare soil samples) for visual inspection\n",
    "# note: we've disabled weighting (by setting weights to 'uniform'), therefore this is canonical ILR.\n",
    "transform.wcontrol <- philr(\n",
    "    t(otu_table(data)), \n",
    "    phy_tree(data), \n",
    "    part.weights='uniform', \n",
    "    ilr.weights='uniform'\n",
    ")"
   ]
  },
  {
   "cell_type": "code",
   "execution_count": 58,
   "metadata": {},
   "outputs": [
    {
     "data": {
      "image/png": "[encoded data removed]"
     },
     "metadata": {},
     "output_type": "display_data"
    }
   ],
   "source": [
    "%%R\n",
    "\n",
    "pcoa <- ordinate(data, 'PCoA', distance=dist(transform.wcontrol, method='euclidean'))\n",
    "(plot.pcoa <- plot_ordination(data, pcoa, color='plant', shape='soil') + \n",
    "    geom_point(size=3) + \n",
    "    theme(text=element_text(size=11,  family='Helvetica')) +\n",
    "    theme_bw() +\n",
    "    scale_color_brewer(palette='Pastel1'))"
   ]
  },
  {
   "cell_type": "code",
   "execution_count": 59,
   "metadata": {},
   "outputs": [
    {
     "name": "stderr",
     "output_type": "stream",
     "text": [
      "R[write to console]: Building Sequential Binary Partition from Tree...\n",
      "\n",
      "R[write to console]: Building Contrast Matrix...\n",
      "\n",
      "R[write to console]: Transforming the Data...\n",
      "\n",
      "R[write to console]: Calculating ILR Weights...\n",
      "\n"
     ]
    }
   ],
   "source": [
    "%%R\n",
    "\n",
    "# subset data\n",
    "data.wplant <- subset_samples(data, sample_data(data)$plant != 'Control')\n",
    "\n",
    "# extract observations, tree, taxonomy and metadata from the phyloseq object\n",
    "observations.wplant <- t(otu_table(data.wplant))\n",
    "tree.wplant <- phy_tree(data.wplant)\n",
    "taxonomy.wplant <- tax_table(data.wplant)\n",
    "meta.wplant <- sample_data(data.wplant)\n",
    "\n",
    "transform.wplant <- philr(\n",
    "    observations.wplant, \n",
    "    tree.wplant, \n",
    "    part.weights='uniform', \n",
    "    ilr.weights='uniform'\n",
    ")\n",
    "\n",
    "# add metadata to transforms\n",
    "transform.wplant.wmeta <- as.data.frame(transform.wplant)\n",
    "transform.wplant.wmeta$soil <- meta.wplant$soil\n",
    "transform.wplant.wmeta$plant <- meta.wplant$plant\n",
    "transform.wplant.wmeta$cultivar <- meta.wplant$cultivar\n",
    "transform.wplant.wmeta$group <- paste(meta.wplant$plant, meta.wplant$soil, sep='@')\n"
   ]
  },
  {
   "cell_type": "code",
   "execution_count": 52,
   "metadata": {},
   "outputs": [
    {
     "name": "stdout",
     "output_type": "stream",
     "text": [
      "[1] 653\n"
     ]
    }
   ],
   "source": [
    "%%R\n",
    "\n",
    "ncol(transform.wplant)"
   ]
  },
  {
   "cell_type": "code",
   "execution_count": 60,
   "metadata": {},
   "outputs": [
    {
     "data": {
      "image/png": "[encoded data removed]"
     },
     "metadata": {},
     "output_type": "display_data"
    }
   ],
   "source": [
    "%%R\n",
    "\n",
    "# cross-validation for l1 lambda parameter; standardise data before running cross-validation\n",
    "cv.plant <- scale(transform.wplant) %>%\n",
    "    cv.glmnet(meta.wplant$plant, alpha=1, family='binomial', type.measure='class')\n",
    "\n",
    "\n",
    "(plot.cv <- autoplot(cv.plant) +\n",
    "        xlab(TeX('$\\\\log(\\\\lambda)$')) + \n",
    "        theme(text=element_text(size=11,  family='Helvetica')) +\n",
    "        theme_bw())\n",
    "\n"
   ]
  },
  {
   "cell_type": "code",
   "execution_count": 61,
   "metadata": {},
   "outputs": [
    {
     "name": "stdout",
     "output_type": "stream",
     "text": [
      " [1] \"b9\"   \"b19\"  \"b33\"  \"b44\"  \"b45\"  \"b51\"  \"b72\"  \"b92\"  \"b94\"  \"b116\"\n",
      "[11] \"b141\" \"b142\" \"b234\" \"b265\" \"b327\" \"b394\" \"b435\" \"b468\" \"b496\" \"b500\"\n",
      "[21] \"b542\" \"b551\" \"b622\" \"b642\" \"b650\"\n"
     ]
    }
   ],
   "source": [
    "%%R\n",
    "\n",
    "features.plant <- select.features(coef(cv.plant, s='lambda.min'))\n",
    "features.plant"
   ]
  },
  {
   "cell_type": "code",
   "execution_count": 62,
   "metadata": {},
   "outputs": [
    {
     "data": {
      "image/png": "[encoded data removed]"
     },
     "metadata": {},
     "output_type": "display_data"
    }
   ],
   "source": [
    "%%R\n",
    "\n",
    "transform.wplant.long.plant <- transform.wplant %>%\n",
    "    convert_to_long(get_variable(transform.wplant.wmeta, 'group')) %>%\n",
    "    filter(coord %in% features.plant)\n",
    "\n",
    "# consider openning the plot in a separate RStudio tab\n",
    "ggplot(transform.wplant.long.plant, aes(x=labels, y=value)) +\n",
    "    geom_boxplot(fill='lightgrey') +\n",
    "    # scale_y_continuous(trans=signed.log1p.transform) +\n",
    "    facet_wrap(.~coord, scales='free_x', ncol=5, nrow=8) +\n",
    "    xlab('Group') + ylab('Balance') +\n",
    "    theme_bw() + \n",
    "    theme(axis.text.x=element_text(angle=90, hjust=1)) + \n",
    "    coord_flip()\n"
   ]
  },
  {
   "cell_type": "code",
   "execution_count": null,
   "metadata": {},
   "outputs": [],
   "source": []
  },
  {
   "cell_type": "code",
   "execution_count": null,
   "metadata": {},
   "outputs": [],
   "source": []
  }
 ],
 "metadata": {
  "kernelspec": {
   "display_name": "Python 3",
   "language": "python",
   "name": "python3"
  },
  "language_info": {
   "codemirror_mode": {
    "name": "ipython",
    "version": 3
   },
   "file_extension": ".py",
   "mimetype": "text/x-python",
   "name": "python",
   "nbconvert_exporter": "python",
   "pygments_lexer": "ipython3",
   "version": "3.6.9"
  }
 },
 "nbformat": 4,
 "nbformat_minor": 4
}
