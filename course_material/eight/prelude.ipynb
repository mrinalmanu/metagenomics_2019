{
 "cells": [
  {
   "cell_type": "markdown",
   "metadata": {},
   "source": [
    "We model PCR as a discrete-time process parametrised by initial template counts $\\boldsymbol{z} = ({z}_{1}, \\dots, {z}_{n})$ and amplification efficiencies.\n",
    "$$\n",
    "{\\hat{c}}_{i}(t) = {z}_{i} \\cdot {( {\\lambda}_{i} + 1)}^{t}\n",
    "$$\n",
    "Given that we assume no inter-template competition, ${\\hat{c}}_{i}(t)$ can be extended to a multi-template case without any effort\n",
    "$$\n",
    "\\boldsymbol{\\hat{c}}(t) = (\\hat{c}_{1}(t), \\dots, \\hat{c}_{n}(t))\n",
    "$$\n",
    "However, we cannot observe these absolute amplicon counts in HTS data as they are compositionally enclosed\n",
    "$$\n",
    "\\boldsymbol{x}(t) = \\mathcal{C} \\left [ \\boldsymbol{c}(t) \\right ] = \\frac{1}{\\sum{\\boldsymbol{c}(t)}} \\cdot \\boldsymbol{c}(t)\n",
    "$$\n",
    "\n",
    "To get around this issue we use the isometric log-ratio transform (ILR) and model the composition in the space of balances defined by a bipartition strategy and invariant under closure.\n",
    "Although any bipartition strategy will do (because a change of strategy is equivalent to the change of basis in the ILR balance space), the phylogenetic bipartition developed by Silverman et al. \\cite{} appears to be a very natural and relatable choice.\n",
    "Given a rooted binary phylogenetic tree of $n$ leaves (DNA templates) and $n-1$ internal nodes, let's define a sign-matrix $\\Psi$ of $n-1$ rows and $n$ columns such that\n",
    "$$\n",
    "{\\phi}_{ij} = \n",
    "\\begin{cases}\n",
    "-1 & \\textrm{if template} \\: j \\: \\textrm{belongs to the left subclade of internal node} \\: i \\\\\n",
    "+1 & \\textrm{if template} \\: j \\: \\textrm{belongs to the right subclade of internal node} \\: i \\\\\n",
    "0 &\n",
    "\\end{cases}\n",
    "$$\n",
    "Now, we can define matrix $\\Psi$ of $n-1$ rows and $n$ such that\n",
    "$$\n",
    "{\\psi}_{ij} = \n",
    "\\begin{cases}\n",
    "    {\\phi}_{ij} \\cdot \\frac{{k}_{i}}{{n}_{i-}} &, {\\phi}_{ij} < 0  \\\\ \n",
    "    {\\phi}_{ij} \\cdot \\frac{{k}_{i}}{{n}_{i+}} &, {\\phi}_{ij} > 0 \\\\\n",
    "    0 &\n",
    "\\end{cases}\n",
    "$$\n",
    "where ${n}_{i+} = \\sum{({\\phi}_{ij} > 0)}$, ${n}_{i-} = \\sum{({\\phi}_{ij} < 0)}$ and ${k}_{i} = \\sqrt{\\frac{{n}_{i-} \\cdot {n}_{i+}}{{n}_{i-} + {n}_{i+}}}$.\n",
    "$\\Psi$ is a contrast-matrix with respect to some orthonormal basis in $\\mathcal{S}^{D}$ (the statement can be tested by computing pair-wise inner products and norms of each row-vector).\n",
    "Let's take a closer look at an individual balance\n",
    "$$\n",
    "{b}_{i}(t) = {k}_{i} \\cdot \\log{\\frac{g(\\boldsymbol{\\hat{c}_{i+}}(t))}{g(\\boldsymbol{\\hat{c}_{i-}}(t))}}\n",
    "$$\n",
    "where $g(\\boldsymbol{\\hat{c}_{i+}}(t))$ and $g(\\boldsymbol{\\hat{c}_{i-}}(t))$ are geometric means of amplicon counts in the right and left subclades descending from internal node $i$. We can rearrange this expression the following way\n",
    "\\begin{equation*}\n",
    "{b}_{i}(t) = {k}_{i} \\cdot \\left (\n",
    "    t \\cdot \\log{\\frac{g(\\boldsymbol{{\\lambda}}_{i+} + 1)}{g(\\boldsymbol{{\\lambda}}_{i-} + 1)} }\n",
    "    + \\log{\\frac{g(\\boldsymbol{{z}}_{i+})}{g(\\boldsymbol{{z}}_{i-})} }\n",
    "\\right )\n",
    "\\end{equation*}\n",
    "The equation is a classical linear model for a continuous generalisation over $t$ with a coefficient and intercept defined in terms of the amplification efficiencies and initial template counts.\n"
   ]
  },
  {
   "cell_type": "markdown",
   "metadata": {},
   "source": [
    "![](figures/ilr_tree.png)"
   ]
  },
  {
   "cell_type": "code",
   "execution_count": null,
   "metadata": {},
   "outputs": [],
   "source": []
  }
 ],
 "metadata": {
  "kernelspec": {
   "display_name": "Python 3",
   "language": "python",
   "name": "python3"
  },
  "language_info": {
   "codemirror_mode": {
    "name": "ipython",
    "version": 3
   },
   "file_extension": ".py",
   "mimetype": "text/x-python",
   "name": "python",
   "nbconvert_exporter": "python",
   "pygments_lexer": "ipython3",
   "version": "3.6.9"
  }
 },
 "nbformat": 4,
 "nbformat_minor": 4
}
